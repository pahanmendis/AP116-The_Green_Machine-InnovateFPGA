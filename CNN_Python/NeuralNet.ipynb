{
 "cells": [
  {
   "cell_type": "code",
   "execution_count": 1,
   "metadata": {},
   "outputs": [],
   "source": [
    "import tensorflow as tf"
   ]
  },
  {
   "cell_type": "code",
   "execution_count": 2,
   "metadata": {},
   "outputs": [],
   "source": [
    "img_height = 1200\n",
    "img_width = 1600\n",
    "batch_size = 1"
   ]
  },
  {
   "cell_type": "code",
   "execution_count": 3,
   "metadata": {},
   "outputs": [
    {
     "name": "stdout",
     "output_type": "stream",
     "text": [
      "Found 3124 files belonging to 2 classes.\n",
      "Using 2500 files for training.\n",
      "Found 3124 files belonging to 2 classes.\n",
      "Using 624 files for validation.\n"
     ]
    }
   ],
   "source": [
    "train_ds = tf.keras.utils.image_dataset_from_directory(\n",
    "    'dataset/',\n",
    "    validation_split=0.2,   \n",
    "    subset=\"training\",\n",
    "    seed=123,\n",
    "    image_size=(img_height, img_width),\n",
    "    batch_size=batch_size)\n",
    "\n",
    "val_ds = tf.keras.utils.image_dataset_from_directory(\n",
    "    'dataset/',\n",
    "    validation_split=0.2,   \n",
    "    subset=\"validation\",\n",
    "    seed=123,\n",
    "    image_size=(img_height, img_width),\n",
    "    batch_size=batch_size)"
   ]
  },
  {
   "cell_type": "code",
   "execution_count": 4,
   "metadata": {},
   "outputs": [],
   "source": [
    "normalization_layer = tf.keras.layers.Rescaling(1./255)\n",
    "train_ds = train_ds.map(lambda x, y: (normalization_layer(x), y))\n",
    "val_ds = val_ds.map(lambda x, y: (normalization_layer(x), y))"
   ]
  },
  {
   "cell_type": "code",
   "execution_count": 5,
   "metadata": {},
   "outputs": [],
   "source": [
    "AUTOTUNE = tf.data.AUTOTUNE\n",
    "train_ds = train_ds.cache().prefetch(buffer_size = AUTOTUNE)\n",
    "val_ds = val_ds.cache().prefetch(buffer_size = AUTOTUNE)"
   ]
  },
  {
   "cell_type": "code",
   "execution_count": 6,
   "metadata": {},
   "outputs": [],
   "source": [
    "num_classes = 2\n",
    "model = tf.keras.Sequential([\n",
    "    tf.keras.layers.Conv2D(8, 11, strides=4, activation='relu'),\n",
    "    tf.keras.layers.MaxPooling2D(),\n",
    "    tf.keras.layers.Conv2D(16, 9, strides=2, activation='relu'),\n",
    "    tf.keras.layers.MaxPooling2D(),\n",
    "    tf.keras.layers.Conv2D(16, 5, strides=2, activation='relu'),\n",
    "    tf.keras.layers.MaxPooling2D(),\n",
    "    tf.keras.layers.Flatten(),\n",
    "    tf.keras.layers.Dense(128, activation='relu'),\n",
    "    tf.keras.layers.Dense(num_classes, activation='sigmoid')\n",
    "])"
   ]
  },
  {
   "cell_type": "code",
   "execution_count": 7,
   "metadata": {},
   "outputs": [],
   "source": [
    "model.compile(\n",
    "    optimizer='adam',\n",
    "    loss=tf.losses.SparseCategoricalCrossentropy(),\n",
    "    metrics=['accuracy', 'mse']\n",
    ")"
   ]
  },
  {
   "cell_type": "code",
   "execution_count": 8,
   "metadata": {},
   "outputs": [
    {
     "name": "stdout",
     "output_type": "stream",
     "text": [
      "Epoch 1/15\n",
      "2500/2500 [==============================] - 348s 137ms/step - loss: 0.5193 - accuracy: 0.8096 - mse: 0.2823 - val_loss: 0.4942 - val_accuracy: 0.8045 - val_mse: 0.2845\n",
      "Epoch 2/15\n",
      "2500/2500 [==============================] - 705s 282ms/step - loss: 0.4906 - accuracy: 0.8104 - mse: 0.2836 - val_loss: 0.4944 - val_accuracy: 0.8045 - val_mse: 0.2854\n",
      "Epoch 3/15\n",
      "2500/2500 [==============================] - 673s 269ms/step - loss: 0.5547 - accuracy: 0.8104 - mse: 0.2867 - val_loss: 0.4953 - val_accuracy: 0.8045 - val_mse: 0.2913\n",
      "Epoch 4/15\n",
      "2500/2500 [==============================] - 465s 186ms/step - loss: 0.4946 - accuracy: 0.8104 - mse: 0.2877 - val_loss: 0.4942 - val_accuracy: 0.8045 - val_mse: 0.2836\n",
      "Epoch 5/15\n",
      "2500/2500 [==============================] - 387s 155ms/step - loss: 0.4877 - accuracy: 0.8104 - mse: 0.2847 - val_loss: 0.4955 - val_accuracy: 0.8045 - val_mse: 0.2872\n",
      "Epoch 6/15\n",
      "2500/2500 [==============================] - 369s 148ms/step - loss: 0.4877 - accuracy: 0.8104 - mse: 0.2819 - val_loss: 0.4954 - val_accuracy: 0.8045 - val_mse: 0.2838\n",
      "Epoch 7/15\n",
      "2500/2500 [==============================] - 315s 126ms/step - loss: 0.4877 - accuracy: 0.8104 - mse: 0.2793 - val_loss: 0.4954 - val_accuracy: 0.8045 - val_mse: 0.2822\n",
      "Epoch 8/15\n",
      "2500/2500 [==============================] - 336s 135ms/step - loss: 0.4876 - accuracy: 0.8104 - mse: 0.2781 - val_loss: 0.4954 - val_accuracy: 0.8045 - val_mse: 0.2812\n",
      "Epoch 9/15\n",
      "2500/2500 [==============================] - 310s 124ms/step - loss: 0.4875 - accuracy: 0.8104 - mse: 0.2777 - val_loss: 0.4953 - val_accuracy: 0.8045 - val_mse: 0.2809\n",
      "Epoch 10/15\n",
      "2500/2500 [==============================] - 272s 109ms/step - loss: 0.4874 - accuracy: 0.8104 - mse: 0.2775 - val_loss: 0.4953 - val_accuracy: 0.8045 - val_mse: 0.2807\n",
      "Epoch 11/15\n",
      "2500/2500 [==============================] - 280s 112ms/step - loss: 0.4873 - accuracy: 0.8104 - mse: 0.2776 - val_loss: 0.4953 - val_accuracy: 0.8045 - val_mse: 0.2809\n",
      "Epoch 12/15\n",
      "2500/2500 [==============================] - 301s 120ms/step - loss: 0.4873 - accuracy: 0.8104 - mse: 0.2779 - val_loss: 0.4953 - val_accuracy: 0.8045 - val_mse: 0.2812\n",
      "Epoch 13/15\n",
      "2500/2500 [==============================] - 288s 115ms/step - loss: 0.4873 - accuracy: 0.8104 - mse: 0.2782 - val_loss: 0.4952 - val_accuracy: 0.8045 - val_mse: 0.2815\n",
      "Epoch 14/15\n",
      "2500/2500 [==============================] - 264s 105ms/step - loss: 0.4872 - accuracy: 0.8104 - mse: 0.2787 - val_loss: 0.4952 - val_accuracy: 0.8045 - val_mse: 0.2819\n",
      "Epoch 15/15\n",
      "2500/2500 [==============================] - 256s 102ms/step - loss: 0.4872 - accuracy: 0.8104 - mse: 0.2789 - val_loss: 0.4952 - val_accuracy: 0.8045 - val_mse: 0.2820\n"
     ]
    },
    {
     "data": {
      "text/plain": [
       "<keras.callbacks.History at 0x1c59cc554f0>"
      ]
     },
     "execution_count": 8,
     "metadata": {},
     "output_type": "execute_result"
    }
   ],
   "source": [
    "model.fit(\n",
    "    train_ds, validation_data = val_ds, epochs = 15\n",
    ")"
   ]
  },
  {
   "cell_type": "code",
   "execution_count": 9,
   "metadata": {},
   "outputs": [],
   "source": [
    "model.save_weights('./checkpoints/checkpoint_4_16')"
   ]
  }
 ],
 "metadata": {
  "interpreter": {
   "hash": "f80e8cd7dcde931836ea5d2f9a78e4c1c68b0545f043345e457279850b1e6a13"
  },
  "kernelspec": {
   "display_name": "Python 3.9.12 ('tfgm')",
   "language": "python",
   "name": "python3"
  },
  "language_info": {
   "codemirror_mode": {
    "name": "ipython",
    "version": 3
   },
   "file_extension": ".py",
   "mimetype": "text/x-python",
   "name": "python",
   "nbconvert_exporter": "python",
   "pygments_lexer": "ipython3",
   "version": "3.9.12"
  },
  "orig_nbformat": 4
 },
 "nbformat": 4,
 "nbformat_minor": 2
}
